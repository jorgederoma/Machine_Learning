{
 "cells": [
  {
   "cell_type": "markdown",
   "metadata": {
    "id": "4RpxntHnQcQ9"
   },
   "source": [
    "# Ejercicios prácticos"
   ]
  },
  {
   "cell_type": "markdown",
   "metadata": {
    "id": "9BkovM9gQcQ_"
   },
   "source": [
    "## Regresión lineal\n",
    "\n",
    "En un problema de regresión lineal intentamos buscar la recta $y=mx+b$ que mejor se adapte a unos puntos o muestras ($X$ e $Y$). Esto lo hacemos minimizando una función de error $E$ que definimos como el sumatorio del cuadrado de la distancia entre el valor ($y$) real de la muestra y el dado por la recta ($mx+b$).\n",
    "\n",
    "$$ E = \\sum_{i=1}^{m}{(mX + b - Y)^2} $$\n",
    "\n",
    "Si buscamos el mínimo de esta función mediante el método de descenso por el gradiente, deberemos calcular la derivada parcial de cada parámetro ($m$ y $b$) implicado en la función de la recta.\n",
    "\n",
    "$$ \\frac{\\partial E}{\\partial m} =  \\sum_{i=1}^{m}{2(mX + b - Y)X } $$\n",
    "\n",
    "$$ \\frac{\\partial E}{\\partial b} =  \\sum_{i=1}^{m}{2(mX + b - Y) } $$\n",
    "\n",
    "De esta forma, actualizamos los parámetros $m$ y $b$ de la siguiente forma:\n",
    "\n",
    "$$m \\leftarrow m - \\lambda \\frac{\\partial E}{\\partial m}$$\n",
    "\n",
    "$$b \\leftarrow b - \\lambda \\frac{\\partial E}{\\partial b}$$"
   ]
  },
  {
   "cell_type": "code",
   "execution_count": 1,
   "metadata": {
    "id": "PTs48ax7QcRA",
    "outputId": "265f1770-4f16-4263-95bc-3500c45fe731"
   },
   "outputs": [
    {
     "data": {
      "image/png": "[encoded data removed]",
      "text/plain": [
       "<Figure size 432x288 with 1 Axes>"
      ]
     },
     "metadata": {
      "needs_background": "light"
     },
     "output_type": "display_data"
    }
   ],
   "source": [
    "import numpy as np\n",
    "import matplotlib.pyplot as plt\n",
    "\n",
    "numberOfSamples = 30\n",
    "\n",
    "mu, sigma = 0, 1 # mean and standard deviation\n",
    "noise = np.random.normal(mu, sigma, numberOfSamples)\n",
    "\n",
    "x= np.random.rand(numberOfSamples)*5\n",
    "y = 2*x + 1 + noise\n",
    " \n",
    "plt.axis([0, 5, 0, 12])\n",
    "plt.plot(x,y,'bo')\n",
    "plt.show()"
   ]
  },
  {
   "cell_type": "markdown",
   "metadata": {
    "id": "hCyHp9A2QcRB"
   },
   "source": [
    "### Tarea\n",
    "\n",
    "Desarrolla el código necesario para calcular los parámetros $m$ y $b$.\n",
    "\n",
    "\n",
    "--------------------------"
   ]
  },
  {
   "cell_type": "code",
   "execution_count": 13,
   "metadata": {},
   "outputs": [
    {
     "name": "stdout",
     "output_type": "stream",
     "text": [
      "Los valores obtenidos son: 8.331231454384138 -18.720236329430282 en pasos 99\n"
     ]
    },
    {
     "data": {
      "text/plain": [
       "[<matplotlib.lines.Line2D at 0x7f9126125370>]"
      ]
     },
     "execution_count": 13,
     "metadata": {},
     "output_type": "execute_result"
    },
    {
     "data": {
      "image/png": "[encoded data removed]",
      "text/plain": [
       "<Figure size 432x288 with 1 Axes>"
      ]
     },
     "metadata": {
      "needs_background": "light"
     },
     "output_type": "display_data"
    }
   ],
   "source": [
    "import numpy as np\n",
    "# Definición de los ajustes y parámetros iniciales\n",
    "num_steps = 100 #DEfinimos numero iteraciones\n",
    "lrate = 0.05 #Parametro de aprendizaje\n",
    "error= 0.01 #error para criterio de parada\n",
    "m = 2\n",
    "b = 1\n",
    "\n",
    "for step in range(0, num_steps):\n",
    "    m_gradient = 0#Valores de inicio\n",
    "    b_gradient = 0\n",
    "    N = float(len(x))\n",
    "    for i in range(0, len(x)): \n",
    "        #Esto es como si hiciese la SUMA\n",
    "        m_gradient=m_gradient - (2/N) * (y[i] - (b + m* x[i]))#dE/dm\n",
    "        b_gradient=b_gradient - (2/N) * (y[i] - (b + m * x[i])) * x[i]#dE/db\n",
    "        \n",
    "    m = m - (lrate * m_gradient)\n",
    "    b = b - (lrate * b_gradient)\n",
    "    if max(abs(lrate * m_gradient), abs(lrate * b_gradient)) < error: #criterio de parada\n",
    "        break\n",
    "    \n",
    "\n",
    "print(\"Los valores obtenidos son:\", m, b, \"en pasos\", step)\n",
    "\n",
    "y1=m*x+b\n",
    "plt.plot(x,y,'bo')\n",
    "plt.plot(x,y1,'xg')\n"
   ]
  },
  {
   "cell_type": "code",
   "execution_count": 35,
   "metadata": {},
   "outputs": [
    {
     "data": {
      "text/plain": [
       "-0.8429228667338136"
      ]
     },
     "execution_count": 35,
     "metadata": {},
     "output_type": "execute_result"
    }
   ],
   "source": [
    "b"
   ]
  },
  {
   "cell_type": "markdown",
   "metadata": {
    "id": "1H2Z5AygQcRB"
   },
   "source": [
    "## Indexación TF-IDF\n",
    "\n",
    "**TF-IDF** es una medida numérica que expresa cuán relevante es una palabra para un documento en una colección. Esta medida se utiliza a menudo como un factor de ponderación en la recuperación de información y la minería de texto. El valor tf-idf aumenta proporcionalmente al número de veces que una palabra aparece en el documento, pero es compensada por la frecuencia de la palabra en la colección de documentos, lo que permite manejar el hecho de que algunas palabras son generalmente más comunes que otras."
   ]
  },
  {
   "cell_type": "code",
   "execution_count": 6,
   "metadata": {
    "id": "FfT66N21QcRC",
    "outputId": "6cfa777c-4d70-4173-9c40-d565394efa53"
   },
   "outputs": [],
   "source": [
    "import fnmatch\n",
    "import os\n",
    "\n",
    "\n",
    "def doc_reader(file_name):\n",
    "    with open(file_name) as f:\n",
    "        text = f.read().decode('utf8')\n",
    "    return text\n",
    "\n",
    "\n",
    "def docs_generator(path):\n",
    "    for root, dirnames, filenames in os.walk(path):\n",
    "        for filename in fnmatch.filter(filenames, '*.txt'):\n",
    "            yield(os.path.join(root, filename))\n",
    "            \n",
    "for doc in docs_generator(\"articles\"):\n",
    "    print(doc)\n",
    "    \n"
   ]
  },
  {
   "cell_type": "markdown",
   "metadata": {
    "id": "_9C7q9tDQcRC"
   },
   "source": [
    "### Tarea\n",
    "\n",
    "Desarrolla una indexador TF-IDF."
   ]
  },
  {
   "cell_type": "markdown",
   "metadata": {
    "id": "yDvoTgzSQcRC"
   },
   "source": [
    "## Web scrapping\n",
    "\n",
    "Web scraping es una técnica utilizada mediante programas de software para extraer información de sitios web. Usualmente, estos programas simulan la navegación de un humano en la World Wide Web ya sea utilizando el protocolo HTTP manualmente, o incrustando un navegador en una aplicación.\n",
    "\n",
    "El web scraping está muy relacionado con la indexación de la web, la cual indexa la información de la web utilizando un robot y es una técnica universal adoptada por la mayoría de los motores de búsqueda."
   ]
  },
  {
   "cell_type": "code",
   "execution_count": 7,
   "metadata": {
    "id": "Nlnyl3IyQcRD",
    "outputId": "fb75aa4d-c417-4fc5-ae88-74903cc30076"
   },
   "outputs": [
    {
     "ename": "SyntaxError",
     "evalue": "unexpected EOF while parsing (<ipython-input-7-d3cfc1eb8cfa>, line 23)",
     "output_type": "error",
     "traceback": [
      "\u001b[0;36m  File \u001b[0;32m\"<ipython-input-7-d3cfc1eb8cfa>\"\u001b[0;36m, line \u001b[0;32m23\u001b[0m\n\u001b[0;31m    print(getPrice(\"https://www.amazon.es/Computer-Age-Statistical-Inference-Student/dp/1108823416/ref=pd_lpo_1?pd_rd_i=1108823416&psc=1\")\u001b[0m\n\u001b[0m                                                                                                                                          ^\u001b[0m\n\u001b[0;31mSyntaxError\u001b[0m\u001b[0;31m:\u001b[0m unexpected EOF while parsing\n"
     ]
    }
   ],
   "source": [
    "import requests\n",
    "from bs4 import BeautifulSoup\n",
    "\n",
    "\n",
    "def getPrice(url):\n",
    "    \n",
    "    headers = {\n",
    "        'User-Agent': 'Mozilla/5.0'\n",
    "    }\n",
    "\n",
    "    # open with GET method\n",
    "    resp = requests.get(url, headers=headers)\n",
    "\n",
    "    # http_respone 200 means OK status\n",
    "    if resp.status_code == 200:\n",
    "        soup = BeautifulSoup(resp.text, 'html.parser')        \n",
    "        price = soup.find(id=\"priceblock_ourprice\").text        \n",
    "        return price\n",
    "    else:\n",
    "        print(\"Error\")\n",
    "\n",
    "\n",
    "print(getPrice(\"https://www.amazon.es/Computer-Age-Statistical-Inference-Student/dp/1108823416/ref=pd_lpo_1?pd_rd_i=1108823416&psc=1\")"
   ]
  },
  {
   "cell_type": "markdown",
   "metadata": {
    "id": "xQPZt48UQcRD"
   },
   "source": [
    "### Tarea\n",
    "\n",
    "Desarrolla un código para que monitorice el precio de varios artículos de una tienda durante un periodo de tiempo. Puedes parametrizar la frecuencia de muestreo como consideres."
   ]
  },
  {
   "cell_type": "code",
   "execution_count": null,
   "metadata": {
    "collapsed": true,
    "id": "f1rondknQcRD",
    "jupyter": {
     "outputs_hidden": true
    }
   },
   "outputs": [],
   "source": []
  }
 ],
 "metadata": {
  "colab": {
   "collapsed_sections": [],
   "name": "10-Ejercicios.ipynb",
   "provenance": []
  },
  "kernelspec": {
   "display_name": "Python 3",
   "language": "python",
   "name": "python3"
  },
  "language_info": {
   "codemirror_mode": {
    "name": "ipython",
    "version": 3
   },
   "file_extension": ".py",
   "mimetype": "text/x-python",
   "name": "python",
   "nbconvert_exporter": "python",
   "pygments_lexer": "ipython3",
   "version": "3.8.5"
  }
 },
 "nbformat": 4,
 "nbformat_minor": 4
}
